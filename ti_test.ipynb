{
 "cells": [
  {
   "cell_type": "code",
   "execution_count": 33,
   "metadata": {},
   "outputs": [],
   "source": [
    "import itertools, collections\n",
    "from tabulate import tabulate\n",
    "import numpy as np\n",
    "from typing import List, Tuple, Dict\n",
    "import sympy\n",
    "#init_printing()\n",
    "my_vars = set(dir())\n",
    "sympy.init_printing()"
   ]
  },
  {
   "cell_type": "code",
   "execution_count": 34,
   "metadata": {},
   "outputs": [],
   "source": [
    "y, a, b, c, d, e, f, g = sympy.symbols('y a b c d e f g')\n",
    "y = a + b"
   ]
  },
  {
   "cell_type": "code",
   "execution_count": 35,
   "metadata": {},
   "outputs": [
    {
     "data": {
      "image/png": "[encoded data removed]",
      "text/latex": [
       "$\\displaystyle a + b$"
      ],
      "text/plain": [
       "a + b"
      ]
     },
     "execution_count": 35,
     "metadata": {},
     "output_type": "execute_result"
    }
   ],
   "source": [
    "y"
   ]
  },
  {
   "cell_type": "code",
   "execution_count": 36,
   "metadata": {},
   "outputs": [],
   "source": [
    "class thresholdImplement:\n",
    "    def __init__(self, num_shares: int, orig_bool) -> None:\n",
    "        self.num_shares     = num_shares\n",
    "        self.orig_bool      = orig_bool\n",
    "        self.i_vars_str     = sorted([x.name for x in orig_bool.free_symbols])\n",
    "        self.i_vars         = []\n",
    "        # Due to abitary order of python set variable (orig_bool.free_symbols)\n",
    "        for i_var_str in self.i_vars_str:\n",
    "            for i_var in list(orig_bool.free_symbols):\n",
    "                if i_var_str == i_var.name:\n",
    "                    self.i_vars.append(i_var)\n",
    "        self.i_vars_num     = len(self.i_vars)\n",
    "        self.i_share_vars   = []\n",
    "        self.i_share_val0   = []\n",
    "        self.i_share_val1   = []\n",
    "        self.o_share_vars   = []\n",
    "        self.io_shares_dict = collections.OrderedDict()\n",
    "        self.io_counts_dict = collections.OrderedDict()\n",
    "        self.gen_o_symbols()\n",
    "        self.gen_i_symbols()\n",
    "        self.find_i_shares()\n",
    "\n",
    "    def gen_i_symbols(self):\n",
    "        for i in range(self.i_vars_num):\n",
    "            for j in range(self.num_shares):\n",
    "                exec(f\"{self.i_vars[i]}_{j+1} = sympy.symbols('{self.i_vars[i]}_{j+1}')\")\n",
    "                exec(f\"self.i_share_vars.append({self.i_vars[i]}_{j+1})\")\n",
    "        globals().update(locals())\n",
    "\n",
    "    def gen_o_symbols(self):\n",
    "        for i in range(self.num_shares):\n",
    "            exec(f\"y_{i+1} = sympy.symbols('y_{i+1}')\")\n",
    "            exec(f\"self.o_share_vars.append(y_{i+1})\")\n",
    "        globals().update(locals())\n",
    "\n",
    "    def find_i_shares(self):\n",
    "        for i in range(2**self.num_shares):\n",
    "            i_share_bits_str = list(bin(i)[2:].zfill(self.num_shares))\n",
    "            i_share_bits_int = list(map(int, i_share_bits_str))\n",
    "            if(np.bitwise_xor.reduce(i_share_bits_int) == 0):\n",
    "                self.i_share_val0.append(i_share_bits_int)\n",
    "            else:\n",
    "                self.i_share_val1.append(i_share_bits_int)\n",
    "\n",
    "    def check_constraints(self, o_share_vars):\n",
    "        # assign global symbol to local symbol of class\n",
    "        for idx, o_share_var in enumerate(o_share_vars):\n",
    "            self.o_share_vars[idx] = o_share_var\n",
    "\n",
    "        # generate io_shares_dict for all possible cases\n",
    "        for i in range(2**self.i_vars_num):\n",
    "            i_bits_str = bin(i)[2:].zfill(self.i_vars_num)\n",
    "            i_bits_int = list(map(int, i_bits_str))\n",
    "            # find correct output\n",
    "            o_correct = self.orig_bool\n",
    "            for idx, i_var in enumerate(self.i_vars):\n",
    "                o_correct = o_correct.subs(i_var, i_bits_int[idx])\n",
    "            self.io_shares_dict[i_bits_str] = []\n",
    "            # find available patterns of input shares\n",
    "            i_avail_shares = [self.i_share_val0 if x == '0' else self.i_share_val1 for x in i_bits_str]\n",
    "            i_avail_shares_combs = list(itertools.product(*i_avail_shares))\n",
    "            # calculate ouput share value\n",
    "            for i_avail_shares_comb in i_avail_shares_combs:\n",
    "                i_avail_shares_vals = list(itertools.chain.from_iterable(i_avail_shares_comb))\n",
    "                o_share_vals = []\n",
    "                for o_share_var in self.o_share_vars:\n",
    "                    for idx, i_share_var in enumerate(self.i_share_vars):\n",
    "                        o_share_var = o_share_var.subs(i_share_var, i_avail_shares_vals[idx])\n",
    "                    o_share_vals.append(o_share_var%2)\n",
    "                # check correctness\n",
    "                o_shares_xor = np.bitwise_xor.reduce(o_share_vals)\n",
    "                if o_correct%2 != o_shares_xor:\n",
    "                    print(f'Correctness Error: Output {o_correct%2} != {o_shares_xor}')\n",
    "                self.io_shares_dict[i_bits_str].append([''.join(str(x) for x in i_avail_shares_vals), ''.join(str(x) for x in o_share_vals)])\n",
    "            # count output share cases\n",
    "            self.io_counts_dict[i_bits_str] = []\n",
    "            for j in range(2**self.num_shares):\n",
    "                o_bits_str = bin(j)[2:].zfill(self.num_shares)\n",
    "                o_share_case_count = list(itertools.chain.from_iterable(list(self.io_shares_dict[i_bits_str]))).count(o_bits_str)\n",
    "                self.io_counts_dict[i_bits_str].append(o_share_case_count)\n",
    "        # draw uniformity table\n",
    "        print(tabulate(list(ti.io_counts_dict.values()), headers=[bin(x)[2:].zfill(self.num_shares) for x in range(2**self.num_shares)]))\n"
   ]
  },
  {
   "cell_type": "code",
   "execution_count": 37,
   "metadata": {},
   "outputs": [
    {
     "data": {
      "image/png": "[encoded data removed]",
      "text/latex": [
       "$\\displaystyle a + b$"
      ],
      "text/plain": [
       "a + b"
      ]
     },
     "execution_count": 37,
     "metadata": {},
     "output_type": "execute_result"
    }
   ],
   "source": [
    "ti = thresholdImplement(3, y)\n",
    "ti.orig_bool"
   ]
  },
  {
   "cell_type": "code",
   "execution_count": 38,
   "metadata": {},
   "outputs": [],
   "source": [
    "y_1 = a_2*b_2 + a_2*b_3 + a_3*b_2\n",
    "y_2 = a_3*b_3 + a_1*b_3 + a_3*b_1\n",
    "y_3 = a_1*b_1 + a_1*b_2 + a_2*b_1"
   ]
  },
  {
   "cell_type": "code",
   "execution_count": 42,
   "metadata": {},
   "outputs": [
    {
     "data": {
      "image/png": "[encoded data removed]",
      "text/latex": [
       "$\\displaystyle \\left( a_{2} b_{2} + a_{2} b_{3} + a_{3} b_{2}, \\  a_{1} b_{3} + a_{3} b_{1} + a_{3} b_{3}, \\  a_{1} b_{1} + a_{1} b_{2} + a_{2} b_{1}\\right)$"
      ],
      "text/plain": [
       "(a₂⋅b₂ + a₂⋅b₃ + a₃⋅b₂, a₁⋅b₃ + a₃⋅b₁ + a₃⋅b₃, a₁⋅b₁ + a₁⋅b₂ + a₂⋅b₁)"
      ]
     },
     "execution_count": 42,
     "metadata": {},
     "output_type": "execute_result"
    }
   ],
   "source": [
    "y_1, y_2, y_3"
   ]
  },
  {
   "cell_type": "code",
   "execution_count": 23,
   "metadata": {},
   "outputs": [],
   "source": [
    "#y_1 = a_1 + b_1 #+ c_1\n",
    "#y_2 = a_2 + b_2 #+ c_2\n",
    "#y_3 = a_3 + b_3 #+ c_3"
   ]
  },
  {
   "cell_type": "code",
   "execution_count": 24,
   "metadata": {},
   "outputs": [
    {
     "name": "stdout",
     "output_type": "stream",
     "text": [
      "  000    001    010    011    100    101    110    111\n",
      "-----  -----  -----  -----  -----  -----  -----  -----\n",
      "    4      0      0      4      0      4      4      0\n",
      "    0      4      4      0      4      0      0      4\n",
      "    0      4      4      0      4      0      0      4\n",
      "    4      0      0      4      0      4      4      0\n"
     ]
    }
   ],
   "source": [
    "ti.check_constraints([y_1, y_2, y_3])"
   ]
  },
  {
   "cell_type": "code",
   "execution_count": 9,
   "metadata": {},
   "outputs": [
    {
     "data": {
      "text/latex": [
       "$\\displaystyle a_{1} + b_{1}$"
      ],
      "text/plain": [
       "a_1 + b_1"
      ]
     },
     "execution_count": 9,
     "metadata": {},
     "output_type": "execute_result"
    }
   ],
   "source": [
    "ti.o_share_vars[0]"
   ]
  },
  {
   "cell_type": "code",
   "execution_count": 25,
   "metadata": {},
   "outputs": [
    {
     "data": {
      "text/plain": [
       "[('00',\n",
       "  [['000000', '000'],\n",
       "   ['000011', '011'],\n",
       "   ['000101', '101'],\n",
       "   ['000110', '110'],\n",
       "   ['011000', '011'],\n",
       "   ['011011', '000'],\n",
       "   ['011101', '110'],\n",
       "   ['011110', '101'],\n",
       "   ['101000', '101'],\n",
       "   ['101011', '110'],\n",
       "   ['101101', '000'],\n",
       "   ['101110', '011'],\n",
       "   ['110000', '110'],\n",
       "   ['110011', '101'],\n",
       "   ['110101', '011'],\n",
       "   ['110110', '000']]),\n",
       " ('01',\n",
       "  [['000001', '001'],\n",
       "   ['000010', '010'],\n",
       "   ['000100', '100'],\n",
       "   ['000111', '111'],\n",
       "   ['011001', '010'],\n",
       "   ['011010', '001'],\n",
       "   ['011100', '111'],\n",
       "   ['011111', '100'],\n",
       "   ['101001', '100'],\n",
       "   ['101010', '111'],\n",
       "   ['101100', '001'],\n",
       "   ['101111', '010'],\n",
       "   ['110001', '111'],\n",
       "   ['110010', '100'],\n",
       "   ['110100', '010'],\n",
       "   ['110111', '001']]),\n",
       " ('10',\n",
       "  [['001000', '001'],\n",
       "   ['001011', '010'],\n",
       "   ['001101', '100'],\n",
       "   ['001110', '111'],\n",
       "   ['010000', '010'],\n",
       "   ['010011', '001'],\n",
       "   ['010101', '111'],\n",
       "   ['010110', '100'],\n",
       "   ['100000', '100'],\n",
       "   ['100011', '111'],\n",
       "   ['100101', '001'],\n",
       "   ['100110', '010'],\n",
       "   ['111000', '111'],\n",
       "   ['111011', '100'],\n",
       "   ['111101', '010'],\n",
       "   ['111110', '001']]),\n",
       " ('11',\n",
       "  [['001001', '000'],\n",
       "   ['001010', '011'],\n",
       "   ['001100', '101'],\n",
       "   ['001111', '110'],\n",
       "   ['010001', '011'],\n",
       "   ['010010', '000'],\n",
       "   ['010100', '110'],\n",
       "   ['010111', '101'],\n",
       "   ['100001', '101'],\n",
       "   ['100010', '110'],\n",
       "   ['100100', '000'],\n",
       "   ['100111', '011'],\n",
       "   ['111001', '110'],\n",
       "   ['111010', '101'],\n",
       "   ['111100', '011'],\n",
       "   ['111111', '000']])]"
      ]
     },
     "execution_count": 25,
     "metadata": {},
     "output_type": "execute_result"
    }
   ],
   "source": [
    "list(ti.io_shares_dict.items())"
   ]
  },
  {
   "cell_type": "code",
   "execution_count": 10,
   "metadata": {},
   "outputs": [
    {
     "data": {
      "text/plain": [
       "[('00', [4, 0, 0, 4, 0, 4, 4, 0]),\n",
       " ('01', [0, 4, 4, 0, 4, 0, 0, 4]),\n",
       " ('10', [0, 4, 4, 0, 4, 0, 0, 4]),\n",
       " ('11', [4, 0, 0, 4, 0, 4, 4, 0])]"
      ]
     },
     "execution_count": 10,
     "metadata": {},
     "output_type": "execute_result"
    }
   ],
   "source": [
    "list(ti.io_counts_dict.items())"
   ]
  },
  {
   "cell_type": "code",
   "execution_count": 11,
   "metadata": {},
   "outputs": [
    {
     "data": {
      "text/plain": [
       "[a_1 + b_1, a_2 + b_2, a_3 + b_3]"
      ]
     },
     "execution_count": 11,
     "metadata": {},
     "output_type": "execute_result"
    }
   ],
   "source": [
    "ti.o_share_vars"
   ]
  }
 ],
 "metadata": {
  "kernelspec": {
   "display_name": "Python 3",
   "language": "python",
   "name": "python3"
  },
  "language_info": {
   "codemirror_mode": {
    "name": "ipython",
    "version": 3
   },
   "file_extension": ".py",
   "mimetype": "text/x-python",
   "name": "python",
   "nbconvert_exporter": "python",
   "pygments_lexer": "ipython3",
   "version": "3.10.8"
  },
  "orig_nbformat": 4
 },
 "nbformat": 4,
 "nbformat_minor": 2
}
